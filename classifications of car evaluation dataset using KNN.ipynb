{
 "cells": [
  {
   "cell_type": "code",
   "execution_count": 44,
   "id": "dfeda629",
   "metadata": {},
   "outputs": [],
   "source": [
    "# 1st install sklearn \n",
    "# import all the libraries neeeded \n",
    "\n",
    "import numpy as np\n",
    "import pandas as pd\n",
    "from sklearn import neighbors, metrics\n",
    "from sklearn.model_selection import train_test_split\n",
    "from sklearn.preprocessing import LabelEncoder"
   ]
  },
  {
   "cell_type": "code",
   "execution_count": 184,
   "id": "6d783527",
   "metadata": {},
   "outputs": [
    {
     "name": "stdout",
     "output_type": "stream",
     "text": [
      "  buying  maint  doors  persons lug_boot  safety  class\n",
      "0  vhigh  vhigh      2        2    small     low  unacc\n",
      "1  vhigh  vhigh      2        2    small     med  unacc\n",
      "2  vhigh  vhigh      2        2    small    high  unacc\n",
      "3  vhigh  vhigh      2        2      med     low  unacc\n",
      "4  vhigh  vhigh      2        2      med     med  unacc\n"
     ]
    }
   ],
   "source": [
    "## Import the dataset to be used in this work \n",
    "# https://archive.ics.uci.edu/ml/datasets.php : many dataset availables here\n",
    "# we download the car evaluation dataset for our project\n",
    "# import os\n",
    "# os.getcwd() : to get the working directory and save your downloaded data there\n",
    "data = pd.read_csv('car.data')\n",
    "print(data.head())"
   ]
  },
  {
   "cell_type": "code",
   "execution_count": 188,
   "id": "0de40fe6",
   "metadata": {},
   "outputs": [],
   "source": [
    "# from the uploaded data, let's create labels and features\n",
    "# from the variables of the data, the most significants ones that can bestly identify the class are 'buying', 'maintainance' and 'safety'\n",
    "# they will constitute our selected features for classification\n",
    "X = data.iloc[:, np.array([0,1,5])].values\n",
    "y = data.iloc[:,6]\n"
   ]
  },
  {
   "cell_type": "code",
   "execution_count": 191,
   "id": "c17e1dfe",
   "metadata": {},
   "outputs": [
    {
     "name": "stdout",
     "output_type": "stream",
     "text": [
      "[[3 3 1]\n",
      " [3 3 2]\n",
      " [3 3 0]\n",
      " ...\n",
      " [1 1 1]\n",
      " [1 1 2]\n",
      " [1 1 0]]\n"
     ]
    }
   ],
   "source": [
    "# we have strings : high, low etc and we can't put it directly in to a ML algorithm. Let's convert it into numbers using the\n",
    "# sklearn function LabelEncoder\n",
    "\n",
    "# Encording the features\n",
    "Le = LabelEncoder()\n",
    "for i in range(len(X[0])):\n",
    "    X[:,i] = Le.fit_transform(X[:,i])\n",
    "\n",
    "print(X)\n"
   ]
  },
  {
   "cell_type": "code",
   "execution_count": 192,
   "id": "9a9e91e3",
   "metadata": {},
   "outputs": [
    {
     "data": {
      "text/plain": [
       "numpy.ndarray"
      ]
     },
     "execution_count": 192,
     "metadata": {},
     "output_type": "execute_result"
    }
   ],
   "source": [
    "# Encording the labels\n",
    "# y = Le.fit_transform(y)\n",
    "\n",
    "# we can also encord the labels by creating dictionary as :\n",
    "label_mapping = {'unacc':0, 'acc':1, 'good':2, 'vgood':3} # dictionary \n",
    "y = y.map(label_mapping)\n",
    "y = np.array(y)\n",
    "type(y)"
   ]
  },
  {
   "cell_type": "code",
   "execution_count": 202,
   "id": "36788866",
   "metadata": {},
   "outputs": [],
   "source": [
    "# splitting the data into the training and testing set\n",
    "\n",
    "X_train, X_test, y_train, y_test = train_test_split(X, y, random_state=0, train_size = .8)"
   ]
  },
  {
   "cell_type": "code",
   "execution_count": 203,
   "id": "02742b03",
   "metadata": {},
   "outputs": [
    {
     "name": "stdout",
     "output_type": "stream",
     "text": [
      "prediction [0 0 0 0 0 0 0 1 1 0 0 0 2 0 0 0 0 0 0 0 3 1 2 0 0 0 0 1 0 0 3 1 0 1 2 0 0\n",
      " 0 0 0 0 1 0 0 3 0 0 0 0 0 0 0 0 0 1 0 2 0 0 0 1 0 0 0 0 1 1 0 0 2 0 1 1 1\n",
      " 0 1 0 1 1 0 0 0 0 1 0 0 0 1 0 0 1 1 0 0 0 0 0 0 1 0 1 0 0 0 2 0 0 1 0 0 3\n",
      " 0 0 1 0 0 1 0 0 3 0 0 3 0 1 0 0 1 2 0 1 0 1 0 0 0 0 0 0 0 0 0 0 1 0 0 1 0\n",
      " 1 0 1 0 0 0 0 1 0 0 1 0 0 1 0 0 1 0 0 0 0 0 0 0 0 0 1 0 0 3 1 0 1 1 1 0 1\n",
      " 0 3 0 0 0 0 1 0 0 0 1 3 1 1 0 0 0 1 0 0 0 0 0 0 3 3 1 0 0 0 1 0 1 0 0 0 1\n",
      " 0 0 1 0 0 0 0 0 0 0 0 0 0 0 0 0 0 0 0 0 1 1 2 0 1 0 0 0 0 1 0 1 0 3 0 0 0\n",
      " 0 0 0 0 1 0 0 3 0 0 0 0 0 0 0 1 0 0 0 0 0 0 0 0 1 0 1 0 3 1 0 1 0 0 0 3 0\n",
      " 0 1 1 1 1 1 1 2 0 0 1 0 1 0 0 1 1 0 0 0 0 1 0 1 0 0 0 1 1 0 0 1 0 0 1 0 0\n",
      " 0 0 0 0 0 0 0 0 3 0 1 0 0]\n",
      "accuracy 0.7658959537572254\n"
     ]
    }
   ],
   "source": [
    "## model creation : KNN\n",
    "knn = neighbors.KNeighborsClassifier(n_neighbors=25, weights='uniform')\n",
    "\n",
    "knn.fit(X_train, y_train) # training the model with the training data\n",
    "\n",
    "# prediction\n",
    "\n",
    "prediction = knn.predict(X_test)\n",
    "\n",
    "# accuray \n",
    "accuracy  = metrics.accuracy_score(y_test, prediction)\n",
    "\n",
    "print(\"prediction\", prediction)\n",
    "print(\"accuracy\", accuracy)"
   ]
  },
  {
   "cell_type": "code",
   "execution_count": 205,
   "id": "e769a998",
   "metadata": {},
   "outputs": [
    {
     "name": "stdout",
     "output_type": "stream",
     "text": [
      "actual value: 0\n",
      "predicted value 0\n"
     ]
    }
   ],
   "source": [
    "a = 56\n",
    "print(\"actual value:\", y[a])\n",
    "print(\"predicted value\", knn.predict(X)[a])"
   ]
  },
  {
   "cell_type": "code",
   "execution_count": null,
   "id": "77648b6e",
   "metadata": {},
   "outputs": [],
   "source": []
  },
  {
   "cell_type": "code",
   "execution_count": null,
   "id": "b6b332fb",
   "metadata": {},
   "outputs": [],
   "source": []
  }
 ],
 "metadata": {
  "kernelspec": {
   "display_name": "Python 3 (ipykernel)",
   "language": "python",
   "name": "python3"
  },
  "language_info": {
   "codemirror_mode": {
    "name": "ipython",
    "version": 3
   },
   "file_extension": ".py",
   "mimetype": "text/x-python",
   "name": "python",
   "nbconvert_exporter": "python",
   "pygments_lexer": "ipython3",
   "version": "3.9.7"
  }
 },
 "nbformat": 4,
 "nbformat_minor": 5
}
